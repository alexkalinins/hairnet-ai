{
 "cells": [
  {
   "cell_type": "code",
   "execution_count": null,
   "metadata": {},
   "outputs": [],
   "source": [
    "import os\n",
    "import cv2\n",
    "import numpy as np\n",
    "import pandas as pd\n",
    "from tqdm import tqdm"
   ]
  },
  {
   "cell_type": "code",
   "execution_count": null,
   "metadata": {},
   "outputs": [],
   "source": [
    "BUILD_DATA = False\n",
    "np.random.seed(1)\n",
    "\n",
    "class HairNetData():\n",
    "    IMG_DIR = 'training-data/gaussian/images'\n",
    "    IMG_SIZE = 200  # 200x200\n",
    "    PARAM_DIR = 'training-data/gaussian/parameters.csv'\n",
    "    data = []\n",
    "    data_count = 0\n",
    "    \n",
    "    def open_data(self):\n",
    "        params_df = pd.read_csv(self.PARAM_DIR)\n",
    "        \n",
    "        for file in tqdm(os.listdir(self.IMG_DIR)):\n",
    "            try:\n",
    "                # load image\n",
    "                path = os.path.join(self.IMG_DIR, file)\n",
    "                img = cv2.imread(path, cv2.IMREAD_GRAYSCALE)\n",
    "                img = cv2.resize(img, (self.IMG_SIZE, self.IMG_SIZE))\n",
    "\n",
    "                # load param for the image\n",
    "                param = params_df.loc[params_df['file_name'] == file] # get params with that file name\n",
    "                param = param.drop(columns=['file_name']) # drops filename column\n",
    "\n",
    "                # adding to data\n",
    "                self.data.append([np.array(img), param.to_numpy()])\n",
    "                self.data_count += 1\n",
    "            except Exception as e:\n",
    "                print(str(e))\n",
    "            \n",
    "        assert self.data_count == 6000\n",
    "        np.random.shuffle(self.data)\n",
    "        np.save('data.npy', self.data)\n",
    "        print(f'count: {self.data_count}')\n",
    "        \n",
    "\n",
    "        \n",
    "if BUILD_DATA:\n",
    "    hairnetdata = HairNetData()\n",
    "    hairnetdata.open_data()\n",
    "    BUILD_DATA = False\n"
   ]
  },
  {
   "cell_type": "code",
   "execution_count": null,
   "metadata": {},
   "outputs": [],
   "source": [
    "data = np.load('data.npy', allow_pickle=True)"
   ]
  },
  {
   "cell_type": "code",
   "execution_count": null,
   "metadata": {},
   "outputs": [],
   "source": [
    "import matplotlib.pyplot as plt\n",
    "\n",
    "plt.imshow(data[0][0], cmap='gray')\n",
    "plt.show()"
   ]
  },
  {
   "cell_type": "code",
   "execution_count": null,
   "metadata": {},
   "outputs": [],
   "source": [
    "data[0][1]"
   ]
  },
  {
   "cell_type": "code",
   "execution_count": null,
   "metadata": {},
   "outputs": [],
   "source": [
    "import torch\n",
    "import torch.nn as nn\n",
    "import torch.nn.functional as F"
   ]
  },
  {
   "cell_type": "code",
   "execution_count": null,
   "metadata": {},
   "outputs": [],
   "source": [
    "device = torch.device('cuda:0') if torch.cuda.is_available() else torch.device('cpu')\n",
    "device"
   ]
  },
  {
   "cell_type": "code",
   "execution_count": null,
   "metadata": {},
   "outputs": [],
   "source": [
    "class HairNet1(nn.Module):\n",
    "    def __init__(self):\n",
    "        super().__init__()\n",
    "        # conv layers\n",
    "        self.conv1 = nn.Conv2d(1, 32, 5, 1)\n",
    "        self.conv2 = nn.Conv2d(32, 64, 5, 1)\n",
    "        self.conv3 = nn.Conv2d(64, 128, 5, 1)\n",
    "        self.conv4 = nn.Conv2d(128, 128, 5, 1)\n",
    "        self.conv5 = nn.Conv2d(128, 128, 5, 1)\n",
    "        \n",
    "        #output size: (input - kernel + 2*padding)/stride + 1\n",
    "        x = torch.rand(200, 200).view(-1,1,200,200)\n",
    "        self._lin_shape = None\n",
    "        self._conv_pass(x)\n",
    "        \n",
    "        self.fc1 = nn.Linear(self._lin_shape, 512)\n",
    "        self.fc2 = nn.Linear(512, 512)\n",
    "        self.fc3 = nn.Linear(512, 9) # we need 9 parameters\n",
    "        \n",
    "    def _conv_pass(self, x):\n",
    "        x = F.max_pool2d(F.relu(self.conv1(x)), (2, 2))\n",
    "        x = F.max_pool2d(F.relu(self.conv2(x)), (2, 2))\n",
    "        x = F.max_pool2d(F.relu(self.conv3(x)), (2, 2))\n",
    "        x = F.max_pool2d(F.relu(self.conv4(x)), (2, 2))\n",
    "        x = F.max_pool2d(F.relu(self.conv5(x)), (2, 2))\n",
    "        \n",
    "        if self._lin_shape is None:\n",
    "            self._lin_shape = x[0].shape[0]*x[0].shape[1]*x[0].shape[2]\n",
    "        return x\n",
    "        \n",
    "    def forward(self, x):\n",
    "        x = self._conv_pass(x)\n",
    "        x = x.view(-1, self._lin_shape)\n",
    "        x = F.relu(self.fc1(x))\n",
    "        x = F.relu(self.fc2(x))\n",
    "        x = F.relu(self.fc3(x)) # Rectified!\n",
    "        return x\n",
    "        \n",
    "        \n",
    "net = HairNet1()"
   ]
  },
  {
   "cell_type": "code",
   "execution_count": null,
   "metadata": {},
   "outputs": [],
   "source": [
    "import torch.optim as optim\n",
    "optimizer = optim.Adam(net.parameters(), lr=0.001)\n",
    "loss_func = nn.MSELoss()\n",
    "\n",
    "imgs = torch.Tensor([d[0] for d in data])\n",
    "imgs /= 255.0 # to get pixel values on [0, 1]\n",
    "params = torch.Tensor([d[1] for d in data])\n",
    "\n",
    "test_size = len(imgs) // 10  # 1/10 of all data\n",
    "\n",
    "# Spliting data into training and testing\n",
    "test_imgs = imgs[-test_size:]\n",
    "test_params = params[-test_size:]\n",
    "\n",
    "train_imgs = imgs[:-test_size]\n",
    "train_params = params[:-test_size]\n",
    "\n",
    "assert len(test_imgs) == len(test_params)\n",
    "assert len(train_imgs) == len(train_params)\n",
    "\n",
    "print(len(test_imgs))\n",
    "print(len(train_imgs))"
   ]
  },
  {
   "cell_type": "code",
   "execution_count": null,
   "metadata": {},
   "outputs": [],
   "source": [
    "BATCH = 10\n",
    "EPOCH = 1\n",
    "\n",
    "torch.backends.cudnn.enabled = True\n",
    "\n",
    "gpunet = HairNet1()\n",
    "gpunet = gpunet.to(device)\n",
    "\n",
    "optimizer = optim.Adam(gpunet.parameters(), lr=0.001)\n",
    "loss_func = nn.MSELoss()\n",
    "\n",
    "for epoch in tqdm(range(EPOCH)):\n",
    "    for i in tqdm(range(0, len(train_imgs), BATCH)):\n",
    "        batch_imgs = train_imgs[i:i+BATCH].view(-1, 1, 200,200)\n",
    "        batch_params = train_params[i:i+BATCH]\n",
    "        \n",
    "        batch_imgs, batch_params = batch_imgs.to(device), batch_params.to(device)\n",
    "        \n",
    "#         batch_imgs = torch.unsqueeze(batch_imgs, -1)\n",
    "        \n",
    "        gpunet.zero_grad()\n",
    "        out = gpunet(batch_imgs)\n",
    "        loss = loss_func(out, batch_params)\n",
    "        \n",
    "        loss.backward()\n",
    "        optimizer.step()\n",
    "\n",
    "print(loss)"
   ]
  },
  {
   "cell_type": "code",
   "execution_count": null,
   "metadata": {},
   "outputs": [],
   "source": []
  }
 ],
 "metadata": {
  "kernelspec": {
   "display_name": "Python 3",
   "language": "python",
   "name": "python3"
  },
  "language_info": {
   "codemirror_mode": {
    "name": "ipython",
    "version": 3
   },
   "file_extension": ".py",
   "mimetype": "text/x-python",
   "name": "python",
   "nbconvert_exporter": "python",
   "pygments_lexer": "ipython3",
   "version": "3.8.3"
  }
 },
 "nbformat": 4,
 "nbformat_minor": 4
}
